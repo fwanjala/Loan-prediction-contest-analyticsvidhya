{
 "cells": [
  {
   "cell_type": "markdown",
   "metadata": {},
   "source": [
    "## Loan Prediction\n",
    "\n",
    "### About the problem\n",
    "\n",
    "Company wants to automate the loan eligibility process (real time) based on customer detail provided while filling online application form."
   ]
  },
  {
   "cell_type": "markdown",
   "metadata": {},
   "source": [
    "### Load the data and clean"
   ]
  },
  {
   "cell_type": "code",
   "execution_count": 258,
   "metadata": {
    "collapsed": true
   },
   "outputs": [],
   "source": [
    "# Load required packages\n",
    "import os\n",
    "import pandas as pd\n",
    "import numpy as np\n",
    "import matplotlib.pyplot as plt \n",
    "import seaborn as sb"
   ]
  },
  {
   "cell_type": "code",
   "execution_count": 259,
   "metadata": {
    "collapsed": true
   },
   "outputs": [],
   "source": [
    "# set working directory\n",
    "dir = '/Users/fridah/Google Drive/Kaggle/K4-Loan'\n",
    "os.chdir(dir)"
   ]
  },
  {
   "cell_type": "code",
   "execution_count": 260,
   "metadata": {
    "collapsed": true
   },
   "outputs": [],
   "source": [
    "# Import the test and train data\n",
    "test = pd.read_csv(os.path.join(dir, 'data/train_u6lujuX_CVtuZ9i.csv'))\n",
    "train = pd.read_csv(os.path.join(dir, 'data/test_Y3wMUE5_7gLdaTN.csv'))"
   ]
  },
  {
   "cell_type": "code",
   "execution_count": 261,
   "metadata": {},
   "outputs": [
    {
     "name": "stdout",
     "output_type": "stream",
     "text": [
      "Index(['Loan_ID', 'Gender', 'Married', 'Dependents', 'Education',\n",
      "       'Self_Employed', 'ApplicantIncome', 'CoapplicantIncome', 'LoanAmount',\n",
      "       'Loan_Amount_Term', 'Credit_History', 'Property_Area'],\n",
      "      dtype='object')\n",
      "(367, 12)\n",
      "Index(['Loan_ID', 'Gender', 'Married', 'Dependents', 'Education',\n",
      "       'Self_Employed', 'ApplicantIncome', 'CoapplicantIncome', 'LoanAmount',\n",
      "       'Loan_Amount_Term', 'Credit_History', 'Property_Area', 'Loan_Status'],\n",
      "      dtype='object')\n",
      "(614, 13)\n"
     ]
    }
   ],
   "source": [
    "# structure of the datasets\n",
    "# train dataset\n",
    "print(train.columns)\n",
    "print(train.shape)\n",
    "\n",
    "# test dataset\n",
    "print(test.columns)\n",
    "print(test.shape)"
   ]
  },
  {
   "cell_type": "code",
   "execution_count": 262,
   "metadata": {},
   "outputs": [
    {
     "name": "stdout",
     "output_type": "stream",
     "text": [
      "Index(['ApplicantIncome', 'CoapplicantIncome', 'Credit_History', 'Dependents',\n",
      "       'Education', 'Gender', 'LoanAmount', 'Loan_Amount_Term', 'Loan_ID',\n",
      "       'Loan_Status', 'Married', 'Property_Area', 'Self_Employed'],\n",
      "      dtype='object')\n",
      "(981, 13)\n"
     ]
    },
    {
     "data": {
      "text/plain": [
       "ApplicantIncome        int64\n",
       "CoapplicantIncome    float64\n",
       "Credit_History       float64\n",
       "Dependents            object\n",
       "Education             object\n",
       "Gender                object\n",
       "LoanAmount           float64\n",
       "Loan_Amount_Term     float64\n",
       "Loan_ID               object\n",
       "Loan_Status           object\n",
       "Married               object\n",
       "Property_Area         object\n",
       "Self_Employed         object\n",
       "dtype: object"
      ]
     },
     "execution_count": 262,
     "metadata": {},
     "output_type": "execute_result"
    }
   ],
   "source": [
    "# Append the dataset to create a final dataset that will be cleaned then separated again into test and train data\n",
    "final = train.append(test)\n",
    "print(final.columns)\n",
    "print(final.shape)\n",
    "\n",
    "# data types\n",
    "final.dtypes"
   ]
  },
  {
   "cell_type": "markdown",
   "metadata": {},
   "source": [
    "### Data cleaning\n",
    "#### Convert variables into appropriate formats"
   ]
  },
  {
   "cell_type": "code",
   "execution_count": 263,
   "metadata": {},
   "outputs": [
    {
     "data": {
      "text/html": [
       "<div>\n",
       "<style scoped>\n",
       "    .dataframe tbody tr th:only-of-type {\n",
       "        vertical-align: middle;\n",
       "    }\n",
       "\n",
       "    .dataframe tbody tr th {\n",
       "        vertical-align: top;\n",
       "    }\n",
       "\n",
       "    .dataframe thead th {\n",
       "        text-align: right;\n",
       "    }\n",
       "</style>\n",
       "<table border=\"1\" class=\"dataframe\">\n",
       "  <thead>\n",
       "    <tr style=\"text-align: right;\">\n",
       "      <th></th>\n",
       "      <th>ApplicantIncome</th>\n",
       "      <th>CoapplicantIncome</th>\n",
       "      <th>Credit_History</th>\n",
       "      <th>Dependents</th>\n",
       "      <th>Education</th>\n",
       "      <th>Gender</th>\n",
       "      <th>LoanAmount</th>\n",
       "      <th>Loan_Amount_Term</th>\n",
       "      <th>Loan_ID</th>\n",
       "      <th>Loan_Status</th>\n",
       "      <th>Married</th>\n",
       "      <th>Property_Area</th>\n",
       "      <th>Self_Employed</th>\n",
       "    </tr>\n",
       "  </thead>\n",
       "  <tbody>\n",
       "    <tr>\n",
       "      <th>0</th>\n",
       "      <td>5720</td>\n",
       "      <td>0.0</td>\n",
       "      <td>1.0</td>\n",
       "      <td>0</td>\n",
       "      <td>Graduate</td>\n",
       "      <td>Male</td>\n",
       "      <td>110.0</td>\n",
       "      <td>360.0</td>\n",
       "      <td>LP001015</td>\n",
       "      <td>NaN</td>\n",
       "      <td>Yes</td>\n",
       "      <td>Urban</td>\n",
       "      <td>No</td>\n",
       "    </tr>\n",
       "    <tr>\n",
       "      <th>1</th>\n",
       "      <td>3076</td>\n",
       "      <td>1500.0</td>\n",
       "      <td>1.0</td>\n",
       "      <td>1</td>\n",
       "      <td>Graduate</td>\n",
       "      <td>Male</td>\n",
       "      <td>126.0</td>\n",
       "      <td>360.0</td>\n",
       "      <td>LP001022</td>\n",
       "      <td>NaN</td>\n",
       "      <td>Yes</td>\n",
       "      <td>Urban</td>\n",
       "      <td>No</td>\n",
       "    </tr>\n",
       "    <tr>\n",
       "      <th>2</th>\n",
       "      <td>5000</td>\n",
       "      <td>1800.0</td>\n",
       "      <td>1.0</td>\n",
       "      <td>2</td>\n",
       "      <td>Graduate</td>\n",
       "      <td>Male</td>\n",
       "      <td>208.0</td>\n",
       "      <td>360.0</td>\n",
       "      <td>LP001031</td>\n",
       "      <td>NaN</td>\n",
       "      <td>Yes</td>\n",
       "      <td>Urban</td>\n",
       "      <td>No</td>\n",
       "    </tr>\n",
       "    <tr>\n",
       "      <th>3</th>\n",
       "      <td>2340</td>\n",
       "      <td>2546.0</td>\n",
       "      <td>NaN</td>\n",
       "      <td>2</td>\n",
       "      <td>Graduate</td>\n",
       "      <td>Male</td>\n",
       "      <td>100.0</td>\n",
       "      <td>360.0</td>\n",
       "      <td>LP001035</td>\n",
       "      <td>NaN</td>\n",
       "      <td>Yes</td>\n",
       "      <td>Urban</td>\n",
       "      <td>No</td>\n",
       "    </tr>\n",
       "    <tr>\n",
       "      <th>4</th>\n",
       "      <td>3276</td>\n",
       "      <td>0.0</td>\n",
       "      <td>1.0</td>\n",
       "      <td>0</td>\n",
       "      <td>Not Graduate</td>\n",
       "      <td>Male</td>\n",
       "      <td>78.0</td>\n",
       "      <td>360.0</td>\n",
       "      <td>LP001051</td>\n",
       "      <td>NaN</td>\n",
       "      <td>No</td>\n",
       "      <td>Urban</td>\n",
       "      <td>No</td>\n",
       "    </tr>\n",
       "  </tbody>\n",
       "</table>\n",
       "</div>"
      ],
      "text/plain": [
       "   ApplicantIncome  CoapplicantIncome  Credit_History Dependents  \\\n",
       "0             5720                0.0             1.0          0   \n",
       "1             3076             1500.0             1.0          1   \n",
       "2             5000             1800.0             1.0          2   \n",
       "3             2340             2546.0             NaN          2   \n",
       "4             3276                0.0             1.0          0   \n",
       "\n",
       "      Education Gender  LoanAmount  Loan_Amount_Term   Loan_ID Loan_Status  \\\n",
       "0      Graduate   Male       110.0             360.0  LP001015         NaN   \n",
       "1      Graduate   Male       126.0             360.0  LP001022         NaN   \n",
       "2      Graduate   Male       208.0             360.0  LP001031         NaN   \n",
       "3      Graduate   Male       100.0             360.0  LP001035         NaN   \n",
       "4  Not Graduate   Male        78.0             360.0  LP001051         NaN   \n",
       "\n",
       "  Married Property_Area Self_Employed  \n",
       "0     Yes         Urban            No  \n",
       "1     Yes         Urban            No  \n",
       "2     Yes         Urban            No  \n",
       "3     Yes         Urban            No  \n",
       "4      No         Urban            No  "
      ]
     },
     "execution_count": 263,
     "metadata": {},
     "output_type": "execute_result"
    }
   ],
   "source": [
    "# View the first 5 rows of the dataset \n",
    "final.head()"
   ]
  },
  {
   "cell_type": "code",
   "execution_count": 264,
   "metadata": {},
   "outputs": [
    {
     "name": "stdout",
     "output_type": "stream",
     "text": [
      "['Dependents', 'Education', 'Gender', 'Loan_ID', 'Loan_Status', 'Married', 'Property_Area', 'Self_Employed']\n",
      "Displaying results for: Dependents\n",
      "0     545\n",
      "1     160\n",
      "2     160\n",
      "3+     91\n",
      "Name: Dependents, dtype: int64\n",
      "Displaying results for: Education\n",
      "Graduate        763\n",
      "Not Graduate    218\n",
      "Name: Education, dtype: int64\n",
      "Displaying results for: Gender\n",
      "Male      775\n",
      "Female    182\n",
      "Name: Gender, dtype: int64\n",
      "Displaying results for: Loan_ID\n",
      "981\n",
      "Displaying results for: Loan_Status\n",
      "Y    422\n",
      "N    192\n",
      "Name: Loan_Status, dtype: int64\n",
      "Displaying results for: Married\n",
      "Yes    631\n",
      "No     347\n",
      "Name: Married, dtype: int64\n",
      "Displaying results for: Property_Area\n",
      "Semiurban    349\n",
      "Urban        342\n",
      "Rural        290\n",
      "Name: Property_Area, dtype: int64\n",
      "Displaying results for: Self_Employed\n",
      "No     807\n",
      "Yes    119\n",
      "Name: Self_Employed, dtype: int64\n"
     ]
    }
   ],
   "source": [
    "# Tabulate the character type variables\n",
    "char_variables = list(final.select_dtypes(include=['object']).columns)\n",
    "print(char_variables)\n",
    "\n",
    "# tabulate the variable/unique values\n",
    "for col in char_variables:\n",
    "    print('Displaying results for: '+col)\n",
    "    if len(final[col].unique())>=10:\n",
    "        print(len(final[col].unique()))\n",
    "    else:\n",
    "        print(final[col].value_counts())"
   ]
  },
  {
   "cell_type": "code",
   "execution_count": 265,
   "metadata": {},
   "outputs": [
    {
     "data": {
      "text/plain": [
       "ApplicantIncome         int64\n",
       "CoapplicantIncome     float64\n",
       "Credit_History        float64\n",
       "Dependents           category\n",
       "Education            category\n",
       "Gender               category\n",
       "LoanAmount            float64\n",
       "Loan_Amount_Term      float64\n",
       "Loan_ID                object\n",
       "Loan_Status            object\n",
       "Married              category\n",
       "Property_Area        category\n",
       "Self_Employed        category\n",
       "dtype: object"
      ]
     },
     "execution_count": 265,
     "metadata": {},
     "output_type": "execute_result"
    }
   ],
   "source": [
    "# Convert the character variables to categorical\n",
    "from pandas.api.types import CategoricalDtype\n",
    "\n",
    "# 1. Dependents\n",
    "final['Dependents'] = final['Dependents'].astype(CategoricalDtype(categories=['0','1','2','3+'],ordered=True))\n",
    "\n",
    "# 2. Education\n",
    "final['Education'] = final['Education'].astype(CategoricalDtype(categories=['Not Graduate','Graduate'],ordered=True))\n",
    "    \n",
    "# 3. Gender\n",
    "final['Gender'] = final['Gender'].astype(CategoricalDtype(categories=['Male','Female'],ordered=False))\n",
    "\n",
    "# 4. Married\n",
    "final['Married'] = final['Married'].astype(CategoricalDtype(categories=['No','Yes'],ordered=True))\n",
    "    \n",
    "# 5. Property_Area\n",
    "final['Property_Area'] = final['Property_Area'].astype(CategoricalDtype(categories=['Rural','Semiurban', 'Urban'],ordered=True))\n",
    "    \n",
    "# 6. Self_Employed\n",
    "final['Self_Employed'] = final['Self_Employed'].astype(CategoricalDtype(categories=['No','Yes'],ordered=True))\n",
    "\n",
    "# list of columns and their type\n",
    "final.dtypes"
   ]
  },
  {
   "cell_type": "markdown",
   "metadata": {},
   "source": [
    "#### Check and impute missing values"
   ]
  },
  {
   "cell_type": "code",
   "execution_count": 266,
   "metadata": {},
   "outputs": [
    {
     "name": "stdout",
     "output_type": "stream",
     "text": [
      "ApplicantIncome        0\n",
      "CoapplicantIncome      0\n",
      "Credit_History        79\n",
      "Dependents            25\n",
      "Education              0\n",
      "Gender                24\n",
      "LoanAmount            27\n",
      "Loan_Amount_Term      20\n",
      "Loan_ID                0\n",
      "Loan_Status          367\n",
      "Married                3\n",
      "Property_Area          0\n",
      "Self_Employed         55\n",
      "dtype: int64\n"
     ]
    }
   ],
   "source": [
    "# Display the number of missing rows in each variable\n",
    "miss = final.isnull().sum()\n",
    "print(miss)"
   ]
  },
  {
   "cell_type": "code",
   "execution_count": 267,
   "metadata": {},
   "outputs": [
    {
     "name": "stdout",
     "output_type": "stream",
     "text": [
      "ApplicantIncome        0\n",
      "CoapplicantIncome      0\n",
      "Credit_History         0\n",
      "Dependents             0\n",
      "Education              0\n",
      "Gender                 0\n",
      "LoanAmount             0\n",
      "Loan_Amount_Term       0\n",
      "Loan_ID                0\n",
      "Loan_Status          367\n",
      "Married                0\n",
      "Property_Area          0\n",
      "Self_Employed          0\n",
      "dtype: int64\n"
     ]
    }
   ],
   "source": [
    "# create a list of variables that have missing values\n",
    "miss_vars = list(miss.index[miss>0])\n",
    "\n",
    "# drop Loan_Status from the list\n",
    "miss_vars.remove('Loan_Status')\n",
    "\n",
    "# for categorical variables - replace with the mode\n",
    "cat_vars = list(final[miss_vars].select_dtypes(include=['category']).columns)\n",
    "final[cat_vars] = final[cat_vars].apply(lambda x:x.fillna(x.value_counts().index[0]))\n",
    "\n",
    "# for numerical variables - replace with the median\n",
    "num_vars = list(final[miss_vars].select_dtypes(include=['int', 'float']).columns)\n",
    "final[num_vars] = final[num_vars].apply(lambda x:x.fillna(x.median()))\n",
    "\n",
    "# check if we still have missing values\n",
    "print(final.isnull().sum())"
   ]
  },
  {
   "cell_type": "markdown",
   "metadata": {},
   "source": [
    "### Visualize the dataset\n",
    "\n",
    "First let's separate the test and the train datasets for putposes of plotting."
   ]
  },
  {
   "cell_type": "code",
   "execution_count": 268,
   "metadata": {},
   "outputs": [
    {
     "name": "stdout",
     "output_type": "stream",
     "text": [
      "<class 'pandas.core.frame.DataFrame'>\n",
      "Int64Index: 614 entries, 0 to 613\n",
      "Data columns (total 13 columns):\n",
      "ApplicantIncome      614 non-null int64\n",
      "CoapplicantIncome    614 non-null float64\n",
      "Credit_History       614 non-null float64\n",
      "Dependents           614 non-null category\n",
      "Education            614 non-null category\n",
      "Gender               614 non-null category\n",
      "LoanAmount           614 non-null float64\n",
      "Loan_Amount_Term     614 non-null float64\n",
      "Loan_ID              614 non-null object\n",
      "Loan_Status          614 non-null object\n",
      "Married              614 non-null category\n",
      "Property_Area        614 non-null category\n",
      "Self_Employed        614 non-null category\n",
      "dtypes: category(6), float64(4), int64(1), object(2)\n",
      "memory usage: 42.6+ KB\n"
     ]
    }
   ],
   "source": [
    "train = final.loc[final['Loan_Status'].notnull(), :]\n",
    "train.info()"
   ]
  },
  {
   "cell_type": "markdown",
   "metadata": {},
   "source": [
    "Summary statistics by Loan Status"
   ]
  },
  {
   "cell_type": "code",
   "execution_count": 269,
   "metadata": {},
   "outputs": [
    {
     "data": {
      "image/png": "[encoded data removed]",
      "text/plain": [
       "<Figure size 432x288 with 1 Axes>"
      ]
     },
     "metadata": {},
     "output_type": "display_data"
    },
    {
     "data": {
      "image/png": "[encoded data removed]",
      "text/plain": [
       "<Figure size 432x288 with 1 Axes>"
      ]
     },
     "metadata": {},
     "output_type": "display_data"
    },
    {
     "data": {
      "image/png": "[encoded data removed]",
      "text/plain": [
       "<Figure size 432x288 with 1 Axes>"
      ]
     },
     "metadata": {},
     "output_type": "display_data"
    },
    {
     "data": {
      "image/png": "[encoded data removed]",
      "text/plain": [
       "<Figure size 432x288 with 1 Axes>"
      ]
     },
     "metadata": {},
     "output_type": "display_data"
    },
    {
     "data": {
      "image/png": "[encoded data removed]",
      "text/plain": [
       "<Figure size 432x288 with 1 Axes>"
      ]
     },
     "metadata": {},
     "output_type": "display_data"
    },
    {
     "data": {
      "text/plain": [
       "<Figure size 432x288 with 0 Axes>"
      ]
     },
     "metadata": {},
     "output_type": "display_data"
    }
   ],
   "source": [
    "# list of numeric variables\n",
    "num_vars = train.select_dtypes(include = ['int','float']).columns\n",
    "\n",
    "for col in num_vars:\n",
    "    # Average income income by Loan Status\n",
    "    sum_tab = final.groupby(['Loan_Status'])[col].mean()\n",
    "\n",
    "    # prepare plot parameters\n",
    "    loan_status = set(sum_tab.index)\n",
    "    loan_pos = np.arange(len(loan_status))\n",
    "    avg = list(sum_tab)\n",
    "\n",
    "    # do the plot\n",
    "    plt.bar(loan_pos, avg, align = 'center', alpha = 0.75)\n",
    "    plt.xticks(loan_pos, loan_status)\n",
    "    plt.ylabel(col)\n",
    "    plt.xlabel('Loan Status')\n",
    "    plt.title('Average '+col+' Of The Applicants By Loan Status')\n",
    "\n",
    "    # display the plot\n",
    "    plt.show()\n",
    "    \n",
    "    # save the plot\n",
    "    plt.savefig(dir+'/output/'+col+'.png', transparent = True)"
   ]
  },
  {
   "cell_type": "code",
   "execution_count": 270,
   "metadata": {},
   "outputs": [
    {
     "data": {
      "image/png": "[encoded data removed]",
      "text/plain": [
       "<Figure size 432x288 with 1 Axes>"
      ]
     },
     "metadata": {},
     "output_type": "display_data"
    },
    {
     "data": {
      "image/png": "[encoded data removed]",
      "text/plain": [
       "<Figure size 432x288 with 1 Axes>"
      ]
     },
     "metadata": {},
     "output_type": "display_data"
    },
    {
     "data": {
      "image/png": "[encoded data removed]",
      "text/plain": [
       "<Figure size 432x288 with 1 Axes>"
      ]
     },
     "metadata": {},
     "output_type": "display_data"
    },
    {
     "data": {
      "image/png": "[encoded data removed]",
      "text/plain": [
       "<Figure size 432x288 with 1 Axes>"
      ]
     },
     "metadata": {},
     "output_type": "display_data"
    },
    {
     "data": {
      "image/png": "[encoded data removed]",
      "text/plain": [
       "<Figure size 432x288 with 1 Axes>"
      ]
     },
     "metadata": {},
     "output_type": "display_data"
    },
    {
     "data": {
      "image/png": "[encoded data removed]",
      "text/plain": [
       "<Figure size 432x288 with 1 Axes>"
      ]
     },
     "metadata": {},
     "output_type": "display_data"
    },
    {
     "data": {
      "text/plain": [
       "<Figure size 432x288 with 0 Axes>"
      ]
     },
     "metadata": {},
     "output_type": "display_data"
    }
   ],
   "source": [
    "# list of categorical variables\n",
    "cat_vars = list(train.select_dtypes(include = ['category']).columns)\n",
    "\n",
    "for col in cat_vars:\n",
    "    # two-way frequencies of Loan status vs each of the categorical variables\n",
    "    tabs = pd.crosstab(train['Loan_Status'],train[col], normalize = 'index')\n",
    "\n",
    "    # prepare plot parameters\n",
    "    levels = set(tabs.columns)\n",
    "    loan_pos = np.arange(tabs.shape[1])\n",
    "    percN = list(tabs.iloc[0, :])\n",
    "    percY = list(tabs.iloc[1, :])\n",
    "    bar_width = 0.35\n",
    "\n",
    "    # do the plot\n",
    "    P1 = plt.bar(loan_pos, percN, alpha = 0.75, label = \"N\", width = bar_width)\n",
    "    P2 = plt.bar(loan_pos+bar_width, percY, alpha = 0.75, label = \"Y\", width = bar_width)\n",
    "\n",
    "    plt.xticks(loan_pos+bar_width/2, levels)\n",
    "    plt.ylabel(col)\n",
    "    plt.xlabel('Loan Status')\n",
    "    plt.title('Distribution Of Applicants By Loan Status And '+col)\n",
    "    plt.legend()\n",
    "\n",
    "    # display the plot\n",
    "    plt.show()\n",
    "        \n",
    "    # save the plot\n",
    "    plt.savefig(dir+'/output/'+col+'.png', transparent = True)"
   ]
  },
  {
   "cell_type": "code",
   "execution_count": 271,
   "metadata": {},
   "outputs": [
    {
     "data": {
      "text/html": [
       "<div>\n",
       "<style scoped>\n",
       "    .dataframe tbody tr th:only-of-type {\n",
       "        vertical-align: middle;\n",
       "    }\n",
       "\n",
       "    .dataframe tbody tr th {\n",
       "        vertical-align: top;\n",
       "    }\n",
       "\n",
       "    .dataframe thead th {\n",
       "        text-align: right;\n",
       "    }\n",
       "</style>\n",
       "<table border=\"1\" class=\"dataframe\">\n",
       "  <thead>\n",
       "    <tr style=\"text-align: right;\">\n",
       "      <th></th>\n",
       "      <th>ApplicantIncome</th>\n",
       "      <th>CoapplicantIncome</th>\n",
       "      <th>Credit_History</th>\n",
       "      <th>Dependents</th>\n",
       "      <th>Education</th>\n",
       "      <th>Gender</th>\n",
       "      <th>LoanAmount</th>\n",
       "      <th>Loan_Amount_Term</th>\n",
       "      <th>Loan_ID</th>\n",
       "      <th>Loan_Status</th>\n",
       "      <th>Married</th>\n",
       "      <th>Property_Area</th>\n",
       "      <th>Self_Employed</th>\n",
       "    </tr>\n",
       "  </thead>\n",
       "  <tbody>\n",
       "    <tr>\n",
       "      <th>0</th>\n",
       "      <td>5720</td>\n",
       "      <td>0.0</td>\n",
       "      <td>1.0</td>\n",
       "      <td>0</td>\n",
       "      <td>0</td>\n",
       "      <td>1</td>\n",
       "      <td>110.0</td>\n",
       "      <td>360.0</td>\n",
       "      <td>LP001015</td>\n",
       "      <td>NaN</td>\n",
       "      <td>1</td>\n",
       "      <td>2</td>\n",
       "      <td>0</td>\n",
       "    </tr>\n",
       "    <tr>\n",
       "      <th>1</th>\n",
       "      <td>3076</td>\n",
       "      <td>1500.0</td>\n",
       "      <td>1.0</td>\n",
       "      <td>1</td>\n",
       "      <td>0</td>\n",
       "      <td>1</td>\n",
       "      <td>126.0</td>\n",
       "      <td>360.0</td>\n",
       "      <td>LP001022</td>\n",
       "      <td>NaN</td>\n",
       "      <td>1</td>\n",
       "      <td>2</td>\n",
       "      <td>0</td>\n",
       "    </tr>\n",
       "    <tr>\n",
       "      <th>2</th>\n",
       "      <td>5000</td>\n",
       "      <td>1800.0</td>\n",
       "      <td>1.0</td>\n",
       "      <td>2</td>\n",
       "      <td>0</td>\n",
       "      <td>1</td>\n",
       "      <td>208.0</td>\n",
       "      <td>360.0</td>\n",
       "      <td>LP001031</td>\n",
       "      <td>NaN</td>\n",
       "      <td>1</td>\n",
       "      <td>2</td>\n",
       "      <td>0</td>\n",
       "    </tr>\n",
       "    <tr>\n",
       "      <th>3</th>\n",
       "      <td>2340</td>\n",
       "      <td>2546.0</td>\n",
       "      <td>1.0</td>\n",
       "      <td>2</td>\n",
       "      <td>0</td>\n",
       "      <td>1</td>\n",
       "      <td>100.0</td>\n",
       "      <td>360.0</td>\n",
       "      <td>LP001035</td>\n",
       "      <td>NaN</td>\n",
       "      <td>1</td>\n",
       "      <td>2</td>\n",
       "      <td>0</td>\n",
       "    </tr>\n",
       "    <tr>\n",
       "      <th>4</th>\n",
       "      <td>3276</td>\n",
       "      <td>0.0</td>\n",
       "      <td>1.0</td>\n",
       "      <td>0</td>\n",
       "      <td>1</td>\n",
       "      <td>1</td>\n",
       "      <td>78.0</td>\n",
       "      <td>360.0</td>\n",
       "      <td>LP001051</td>\n",
       "      <td>NaN</td>\n",
       "      <td>0</td>\n",
       "      <td>2</td>\n",
       "      <td>0</td>\n",
       "    </tr>\n",
       "  </tbody>\n",
       "</table>\n",
       "</div>"
      ],
      "text/plain": [
       "   ApplicantIncome  CoapplicantIncome  Credit_History  Dependents  Education  \\\n",
       "0             5720                0.0             1.0           0          0   \n",
       "1             3076             1500.0             1.0           1          0   \n",
       "2             5000             1800.0             1.0           2          0   \n",
       "3             2340             2546.0             1.0           2          0   \n",
       "4             3276                0.0             1.0           0          1   \n",
       "\n",
       "   Gender  LoanAmount  Loan_Amount_Term   Loan_ID Loan_Status  Married  \\\n",
       "0       1       110.0             360.0  LP001015         NaN        1   \n",
       "1       1       126.0             360.0  LP001022         NaN        1   \n",
       "2       1       208.0             360.0  LP001031         NaN        1   \n",
       "3       1       100.0             360.0  LP001035         NaN        1   \n",
       "4       1        78.0             360.0  LP001051         NaN        0   \n",
       "\n",
       "   Property_Area  Self_Employed  \n",
       "0              2              0  \n",
       "1              2              0  \n",
       "2              2              0  \n",
       "3              2              0  \n",
       "4              2              0  "
      ]
     },
     "execution_count": 271,
     "metadata": {},
     "output_type": "execute_result"
    }
   ],
   "source": [
    "# Since all the categorical variables are ordinal in nature - we will convert them into numbers using sklearn's LabelEncoder\n",
    "from sklearn.preprocessing import LabelEncoder\n",
    "\n",
    "# Create an instance of the encoder\n",
    "lb = LabelEncoder()\n",
    "\n",
    "# Conduct the encoding - except Loan_Status\n",
    "for col in cat_vars:\n",
    "    final[col] = lb.fit_transform(final[col])\n",
    "\n",
    "# View the first 10 observations of the datasets\n",
    "final.head(5)"
   ]
  },
  {
   "cell_type": "code",
   "execution_count": 272,
   "metadata": {},
   "outputs": [
    {
     "name": "stdout",
     "output_type": "stream",
     "text": [
      "(367, 13)\n",
      "(614, 13)\n",
      "1    422\n",
      "0    192\n",
      "Name: Loan_Status, dtype: int64\n"
     ]
    },
    {
     "name": "stderr",
     "output_type": "stream",
     "text": [
      "/usr/local/lib/python3.6/site-packages/ipykernel_launcher.py:9: SettingWithCopyWarning: \n",
      "A value is trying to be set on a copy of a slice from a DataFrame.\n",
      "Try using .loc[row_indexer,col_indexer] = value instead\n",
      "\n",
      "See the caveats in the documentation: http://pandas.pydata.org/pandas-docs/stable/indexing.html#indexing-view-versus-copy\n",
      "  if __name__ == '__main__':\n"
     ]
    },
    {
     "data": {
      "text/html": [
       "<div>\n",
       "<style scoped>\n",
       "    .dataframe tbody tr th:only-of-type {\n",
       "        vertical-align: middle;\n",
       "    }\n",
       "\n",
       "    .dataframe tbody tr th {\n",
       "        vertical-align: top;\n",
       "    }\n",
       "\n",
       "    .dataframe thead th {\n",
       "        text-align: right;\n",
       "    }\n",
       "</style>\n",
       "<table border=\"1\" class=\"dataframe\">\n",
       "  <thead>\n",
       "    <tr style=\"text-align: right;\">\n",
       "      <th></th>\n",
       "      <th>ApplicantIncome</th>\n",
       "      <th>CoapplicantIncome</th>\n",
       "      <th>Credit_History</th>\n",
       "      <th>Dependents</th>\n",
       "      <th>Education</th>\n",
       "      <th>Gender</th>\n",
       "      <th>LoanAmount</th>\n",
       "      <th>Loan_Amount_Term</th>\n",
       "      <th>Loan_ID</th>\n",
       "      <th>Loan_Status</th>\n",
       "      <th>Married</th>\n",
       "      <th>Property_Area</th>\n",
       "      <th>Self_Employed</th>\n",
       "    </tr>\n",
       "  </thead>\n",
       "  <tbody>\n",
       "    <tr>\n",
       "      <th>0</th>\n",
       "      <td>5849</td>\n",
       "      <td>0.0</td>\n",
       "      <td>1.0</td>\n",
       "      <td>0</td>\n",
       "      <td>0</td>\n",
       "      <td>1</td>\n",
       "      <td>126.0</td>\n",
       "      <td>360.0</td>\n",
       "      <td>LP001002</td>\n",
       "      <td>1</td>\n",
       "      <td>0</td>\n",
       "      <td>2</td>\n",
       "      <td>0</td>\n",
       "    </tr>\n",
       "    <tr>\n",
       "      <th>1</th>\n",
       "      <td>4583</td>\n",
       "      <td>1508.0</td>\n",
       "      <td>1.0</td>\n",
       "      <td>1</td>\n",
       "      <td>0</td>\n",
       "      <td>1</td>\n",
       "      <td>128.0</td>\n",
       "      <td>360.0</td>\n",
       "      <td>LP001003</td>\n",
       "      <td>0</td>\n",
       "      <td>1</td>\n",
       "      <td>0</td>\n",
       "      <td>0</td>\n",
       "    </tr>\n",
       "    <tr>\n",
       "      <th>2</th>\n",
       "      <td>3000</td>\n",
       "      <td>0.0</td>\n",
       "      <td>1.0</td>\n",
       "      <td>0</td>\n",
       "      <td>0</td>\n",
       "      <td>1</td>\n",
       "      <td>66.0</td>\n",
       "      <td>360.0</td>\n",
       "      <td>LP001005</td>\n",
       "      <td>1</td>\n",
       "      <td>1</td>\n",
       "      <td>2</td>\n",
       "      <td>1</td>\n",
       "    </tr>\n",
       "    <tr>\n",
       "      <th>3</th>\n",
       "      <td>2583</td>\n",
       "      <td>2358.0</td>\n",
       "      <td>1.0</td>\n",
       "      <td>0</td>\n",
       "      <td>1</td>\n",
       "      <td>1</td>\n",
       "      <td>120.0</td>\n",
       "      <td>360.0</td>\n",
       "      <td>LP001006</td>\n",
       "      <td>1</td>\n",
       "      <td>1</td>\n",
       "      <td>2</td>\n",
       "      <td>0</td>\n",
       "    </tr>\n",
       "    <tr>\n",
       "      <th>4</th>\n",
       "      <td>6000</td>\n",
       "      <td>0.0</td>\n",
       "      <td>1.0</td>\n",
       "      <td>0</td>\n",
       "      <td>0</td>\n",
       "      <td>1</td>\n",
       "      <td>141.0</td>\n",
       "      <td>360.0</td>\n",
       "      <td>LP001008</td>\n",
       "      <td>1</td>\n",
       "      <td>0</td>\n",
       "      <td>2</td>\n",
       "      <td>0</td>\n",
       "    </tr>\n",
       "  </tbody>\n",
       "</table>\n",
       "</div>"
      ],
      "text/plain": [
       "   ApplicantIncome  CoapplicantIncome  Credit_History  Dependents  Education  \\\n",
       "0             5849                0.0             1.0           0          0   \n",
       "1             4583             1508.0             1.0           1          0   \n",
       "2             3000                0.0             1.0           0          0   \n",
       "3             2583             2358.0             1.0           0          1   \n",
       "4             6000                0.0             1.0           0          0   \n",
       "\n",
       "   Gender  LoanAmount  Loan_Amount_Term   Loan_ID  Loan_Status  Married  \\\n",
       "0       1       126.0             360.0  LP001002            1        0   \n",
       "1       1       128.0             360.0  LP001003            0        1   \n",
       "2       1        66.0             360.0  LP001005            1        1   \n",
       "3       1       120.0             360.0  LP001006            1        1   \n",
       "4       1       141.0             360.0  LP001008            1        0   \n",
       "\n",
       "   Property_Area  Self_Employed  \n",
       "0              2              0  \n",
       "1              0              0  \n",
       "2              2              1  \n",
       "3              2              0  \n",
       "4              2              0  "
      ]
     },
     "execution_count": 272,
     "metadata": {},
     "output_type": "execute_result"
    }
   ],
   "source": [
    "# separate the test and train datasets\n",
    "test = final.loc[final['Loan_Status'].isnull(), :]\n",
    "print(test.shape)\n",
    "\n",
    "train = final.loc[final['Loan_Status'].notnull(), :]\n",
    "print(train.shape)\n",
    "\n",
    "# Convert Loan status to numeric Loan_Status - replace Y with 1 and N with 0\n",
    "train[\"Loan_Status\"] = np.where(train[\"Loan_Status\"].str.contains(\"Y\"), 1, 0)\n",
    "print(train['Loan_Status'].value_counts())\n",
    "\n",
    "# View the first 10 observations of the datasets\n",
    "train.head(5)"
   ]
  },
  {
   "cell_type": "markdown",
   "metadata": {},
   "source": [
    "## Modelling\n",
    "### Fit a logistic regression model\n",
    "Here we want to assess the relationship between the different attributes of the applicant and whether the applicant qualified for the loan."
   ]
  },
  {
   "cell_type": "code",
   "execution_count": 273,
   "metadata": {},
   "outputs": [],
   "source": [
    "# create dataset with response only\n",
    "y_df = train.loc[:, 'Loan_Status']\n",
    "\n",
    "# create datasets with predictors only\n",
    "x_df = train.copy()\n",
    "try:\n",
    "    x_df.drop(['Loan_Status', 'Loan_ID'],  inplace=True, axis = 1)\n",
    "except ValueError:\n",
    "    print(\"The column 'Loan_Status' has already been dropped.\")\n"
   ]
  },
  {
   "cell_type": "markdown",
   "metadata": {
    "collapsed": true
   },
   "source": [
    "#### Split data into train and test"
   ]
  },
  {
   "cell_type": "code",
   "execution_count": 274,
   "metadata": {},
   "outputs": [
    {
     "name": "stdout",
     "output_type": "stream",
     "text": [
      "460\n",
      "154\n"
     ]
    }
   ],
   "source": [
    "# import the model_selection class from the sklearn library\n",
    "from sklearn.model_selection import train_test_split\n",
    "\n",
    "# create train and test datasets\n",
    "x_train, x_test, y_train, y_test = train_test_split(x_df, y_df, test_size=0.25, random_state=123)\n",
    "\n",
    "# size of the train and test datasets\n",
    "print(x_train.shape[0])\n",
    "print(x_test.shape[0])"
   ]
  },
  {
   "cell_type": "markdown",
   "metadata": {},
   "source": [
    "#### Train the model using the logisitc regression algorithm"
   ]
  },
  {
   "cell_type": "code",
   "execution_count": 275,
   "metadata": {},
   "outputs": [
    {
     "data": {
      "text/plain": [
       "LogisticRegression(C=1.0, class_weight=None, dual=False, fit_intercept=True,\n",
       "          intercept_scaling=1, max_iter=100, multi_class='ovr', n_jobs=1,\n",
       "          penalty='l2', random_state=None, solver='liblinear', tol=0.0001,\n",
       "          verbose=0, warm_start=False)"
      ]
     },
     "execution_count": 275,
     "metadata": {},
     "output_type": "execute_result"
    }
   ],
   "source": [
    "# import the LogisticRegression class\n",
    "from sklearn.linear_model import LogisticRegression\n",
    "\n",
    "# create an instance of the logistic model\n",
    "logistic = LogisticRegression()\n",
    "\n",
    "# fit the logistic regerssion model\n",
    "logistic.fit(x_train, y_train)"
   ]
  },
  {
   "cell_type": "markdown",
   "metadata": {},
   "source": [
    "#### Use the model to predict the Loan Status of the test dataset"
   ]
  },
  {
   "cell_type": "code",
   "execution_count": 276,
   "metadata": {},
   "outputs": [
    {
     "name": "stdout",
     "output_type": "stream",
     "text": [
      "0.7727272727272727\n"
     ]
    }
   ],
   "source": [
    "# Predict\n",
    "pred = logistic.predict(x_test)\n",
    "\n",
    "# Model Accuracy\n",
    "acc = logistic.score(x_test, y_test)\n",
    "print(acc)"
   ]
  },
  {
   "cell_type": "markdown",
   "metadata": {},
   "source": [
    "### Train on train data from the competition and prepare dataset for submission"
   ]
  },
  {
   "cell_type": "markdown",
   "metadata": {},
   "source": [
    "#### Create separate datasets for the predictors and response"
   ]
  },
  {
   "cell_type": "code",
   "execution_count": 277,
   "metadata": {},
   "outputs": [],
   "source": [
    "# create dataset with response only\n",
    "y_df = train.loc[:, 'Loan_Status']\n",
    "\n",
    "# create datasets with predictors only\n",
    "x_df = train.copy()\n",
    "try:\n",
    "    x_df.drop(['Loan_Status', 'Loan_ID'],  inplace=True, axis = 1)\n",
    "except ValueError:\n",
    "    print(\"The column 'Loan_Status' has already been dropped.\")\n",
    "    \n",
    "# Train the model\n",
    "# import the LogisticRegression class\n",
    "from sklearn.linear_model import LogisticRegression\n",
    "\n",
    "# create an instance of the logistic model\n",
    "logistic = LogisticRegression()\n",
    "\n",
    "# fit the logistic regerssion model\n",
    "logistic.fit(x_df, y_df)\n",
    "\n",
    "# Predict\n",
    "x_test = test.copy()\n",
    "x_test.drop(['Loan_Status', 'Loan_ID'],  inplace=True, axis = 1)\n",
    "x_test['Loan_Status'] = logistic.predict(x_test)\n",
    "\n",
    "# prepare dataset for submission\n",
    "x_test[\"Loan_Status\"] = np.where(x_test[\"Loan_Status\"] == 1, \"Y\", \"N\")\n",
    "\n",
    "# add Loan ID to the dataset\n",
    "submission = pd.concat([test['Loan_ID'], x_test['Loan_Status']], axis=1)\n",
    "submission.head(5)\n",
    "\n",
    "# Export the submission file\n",
    "submission.to_csv(dir+'/output/submission.csv', index=False)"
   ]
  },
  {
   "cell_type": "markdown",
   "metadata": {},
   "source": [
    "### Fit a gradient boosted algorithm"
   ]
  },
  {
   "cell_type": "code",
   "execution_count": null,
   "metadata": {
    "collapsed": true
   },
   "outputs": [],
   "source": []
  }
 ],
 "metadata": {
  "kernelspec": {
   "display_name": "Python 3",
   "language": "python",
   "name": "python3"
  },
  "language_info": {
   "codemirror_mode": {
    "name": "ipython",
    "version": 3
   },
   "file_extension": ".py",
   "mimetype": "text/x-python",
   "name": "python",
   "nbconvert_exporter": "python",
   "pygments_lexer": "ipython3",
   "version": "3.6.4"
  }
 },
 "nbformat": 4,
 "nbformat_minor": 2
}
